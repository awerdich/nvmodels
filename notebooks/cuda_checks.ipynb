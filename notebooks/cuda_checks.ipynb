{
 "cells": [
  {
   "cell_type": "markdown",
   "id": "2b0d10a1-51e4-458a-8019-874a1f89f313",
   "metadata": {},
   "source": [
    "### Check CUDA availability ###"
   ]
  },
  {
   "cell_type": "code",
   "execution_count": 1,
   "id": "ec0e8c1e-71e9-46ed-aa86-5715ec039dd9",
   "metadata": {
    "tags": []
   },
   "outputs": [
    {
     "data": {
      "text/html": [
       "<style>.container { width:100% !important; }</style>"
      ],
      "text/plain": [
       "<IPython.core.display.HTML object>"
      ]
     },
     "metadata": {},
     "output_type": "display_data"
    },
    {
     "name": "stdout",
     "output_type": "stream",
     "text": [
      "Package version: unknown\n",
      "PyTorch version: 2.3.0a0+ebedce2\n"
     ]
    }
   ],
   "source": [
    "import os\n",
    "\n",
    "# PyTorch\n",
    "import torch\n",
    "\n",
    "# Appearance of the Notebook\n",
    "from IPython.display import display, HTML\n",
    "display(HTML(\"<style>.container { width:100% !important; }</style>\"))\n",
    "\n",
    "# Import this module with autoreload\n",
    "%load_ext autoreload\n",
    "%autoreload 2\n",
    "import nvmodels\n",
    "print(f'Package version: {nvmodels.__version__}')\n",
    "print(f'PyTorch version: {torch.__version__}')"
   ]
  }
 ],
 "metadata": {
  "kernelspec": {
   "display_name": "Python 3 (ipykernel)",
   "language": "python",
   "name": "python3"
  },
  "language_info": {
   "codemirror_mode": {
    "name": "ipython",
    "version": 3
   },
   "file_extension": ".py",
   "mimetype": "text/x-python",
   "name": "python",
   "nbconvert_exporter": "python",
   "pygments_lexer": "ipython3",
   "version": "3.10.12"
  }
 },
 "nbformat": 4,
 "nbformat_minor": 5
}
